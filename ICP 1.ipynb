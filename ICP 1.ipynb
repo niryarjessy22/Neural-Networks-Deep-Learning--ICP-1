{
 "cells": [
  {
   "cell_type": "markdown",
   "id": "1533d2a9",
   "metadata": {},
   "source": [
    "ICP-1 Neural Networks & Deep Learning"
   ]
  },
  {
   "cell_type": "markdown",
   "id": "feea8527",
   "metadata": {},
   "source": [
    "# Question:1"
   ]
  },
  {
   "cell_type": "code",
   "execution_count": null,
   "id": "03bebdb4",
   "metadata": {},
   "outputs": [],
   "source": [
    "# input string\n",
    "string = input('Enter the string:')\n",
    "#Deleting the input string and concatenating the strings in order to delete specific characters\n",
    "sub = string[0:3] + string[5:]\n",
    "# Reversing the string and printing the output\n",
    "print('Input String after deleting some characters and reverse the resultant \"', sub[::-1],'\"')"
   ]
  },
  {
   "cell_type": "code",
   "execution_count": null,
   "id": "a0f219ad",
   "metadata": {},
   "outputs": [],
   "source": [
    "#Take two numbers from user and perform at least 4 arithmetic operations on them.\n",
    "#Get two numbers from the user\n",
    "a = int(input(\"Enter First Number: \"));\n",
    "b = int(input(\"Enter Second Number: \"));\n",
    "print(\"The addition of the given numbers are:\", a+b); #add\n",
    "print(\"The subtraction of the given numbers are:\",a-b); #subtract\n",
    "print(\"The multiplication of the given numbers are:\",a*b); #multiply\n",
    "print(\"The division of the given numbers are:\",a/b); #divide\n",
    "\n"
   ]
  },
  {
   "cell_type": "markdown",
   "id": "b95126b8",
   "metadata": {},
   "source": [
    "# Question:2"
   ]
  },
  {
   "cell_type": "code",
   "execution_count": null,
   "id": "25ca0070",
   "metadata": {},
   "outputs": [],
   "source": [
    "#This program replaces each occurance of the string python with pythons\n",
    "inString = input(\"input a sentence:\")\n",
    "#read sentence from user\n",
    "outString = inString.replace('python', 'pythons')\n",
    "print(outString)\n",
    "#using replace function to search and replace string printing Output\n"
   ]
  },
  {
   "cell_type": "markdown",
   "id": "31dcd0a9",
   "metadata": {},
   "source": [
    "# Question:3"
   ]
  },
  {
   "cell_type": "code",
   "execution_count": null,
   "id": "28f1f749",
   "metadata": {},
   "outputs": [],
   "source": [
    "#Get the input score from the user\n",
    "score = int(input(\"Enter your score:\"));\n",
    "\n",
    "#Check and print the respective grade\n",
    "if score >= 90 and score <=100:\n",
    "    print(\"Your Grade is A\");\n",
    "elif score >= 80 and score <=89:\n",
    "    print(\"Your Grade is B\");\n",
    "elif score >= 70 and score <=79:\n",
    "    print(\"Your Grade is C\");\n",
    "elif score >= 60 and score <=69:\n",
    "    print(\"Your Grade is D\");\n",
    "else:\n",
    "    print(\"Your Grade is F\");"
   ]
  },
  {
   "cell_type": "code",
   "execution_count": null,
   "id": "d117195c",
   "metadata": {},
   "outputs": [],
   "source": []
  }
 ],
 "metadata": {
  "kernelspec": {
   "display_name": "Python 3 (ipykernel)",
   "language": "python",
   "name": "python3"
  },
  "language_info": {
   "codemirror_mode": {
    "name": "ipython",
    "version": 3
   },
   "file_extension": ".py",
   "mimetype": "text/x-python",
   "name": "python",
   "nbconvert_exporter": "python",
   "pygments_lexer": "ipython3",
   "version": "3.10.2"
  }
 },
 "nbformat": 4,
 "nbformat_minor": 5
}
